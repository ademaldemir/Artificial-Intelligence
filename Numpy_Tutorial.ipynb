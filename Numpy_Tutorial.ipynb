{
  "nbformat": 4,
  "nbformat_minor": 0,
  "metadata": {
    "colab": {
      "name": "Numpy Tutorial.ipynb",
      "provenance": [],
      "collapsed_sections": []
    },
    "kernelspec": {
      "display_name": "Python 3",
      "language": "python",
      "name": "python3"
    }
  },
  "cells": [
    {
      "cell_type": "markdown",
      "metadata": {
        "id": "-s9bQNqkVygt",
        "colab_type": "text"
      },
      "source": [
        "![sslogo](https://github.com/stratascratch/stratascratch.github.io/raw/master/assets/sslogo.jpg)"
      ]
    },
    {
      "cell_type": "markdown",
      "metadata": {
        "id": "7UV8v2kdVscb",
        "colab_type": "text"
      },
      "source": [
        "# Intro to NumPy\n",
        "\n",
        "NumPy is the fundamental package for scientific computing in Python. NumPy is used in many other packages in python even though you may not see it explicitly running in your code.\n",
        "\n",
        "It is a python library that provides a multidimensional array object, various derived objects (such as masked arrays and matrices), and an assortment of routines for fast operations on arrays, including mathematical, logical, shape manipulation, sorting, selecting, I/O, discrete Fourier transforms, basic linear algebra, basic statistical operations, random simulation and much more.\n",
        "\n",
        "\n"
      ]
    },
    {
      "cell_type": "markdown",
      "metadata": {
        "id": "fkjpKVmZVscc",
        "colab_type": "text"
      },
      "source": [
        "#### Import the numpy package"
      ]
    },
    {
      "cell_type": "code",
      "metadata": {
        "id": "oFl5JU9fVscd",
        "colab_type": "code",
        "colab": {}
      },
      "source": [
        "import numpy as np"
      ],
      "execution_count": 0,
      "outputs": []
    },
    {
      "cell_type": "markdown",
      "metadata": {
        "id": "Wi_iVJZcVsch",
        "colab_type": "text"
      },
      "source": [
        "#### Make an array from a list. \n",
        "\n",
        "This will create a numpy array with 3 elements. \n",
        "\n",
        "Each numpy array contains an attribute called `shape`. Shape is a tuple which tells you how many elements you have per axis. For example (5, 6, 8) means 5 elements per axis 0, 6 elements per axis 1 and 8 elements per axis 2. Usually you will have only one or two axes.\n",
        "\n",
        "The shape for the array in this section is `(3, )`. The reason for this funny notation is python's type system where shape must be a tuple and this is a tuple with 1 element. Writing just 3 would mean a number, not a tuple.\n",
        "\n",
        "To verify that try `np.array([1, 2, 3]).shape` "
      ]
    },
    {
      "cell_type": "code",
      "metadata": {
        "id": "hiCYmtPGVsch",
        "colab_type": "code",
        "colab": {
          "base_uri": "https://localhost:8080/",
          "height": 33
        },
        "outputId": "3ed4d7e2-7a8a-4ba9-cc8b-448f2e0d04a1"
      },
      "source": [
        "np.array([1, 2, 3])"
      ],
      "execution_count": 2,
      "outputs": [
        {
          "output_type": "execute_result",
          "data": {
            "text/plain": [
              "array([1, 2, 3])"
            ]
          },
          "metadata": {
            "tags": []
          },
          "execution_count": 2
        }
      ]
    },
    {
      "cell_type": "markdown",
      "metadata": {
        "id": "stlK-cUIVscm",
        "colab_type": "text"
      },
      "source": [
        "#### Make an array from a list of lists\n",
        "\n",
        "The shape of this array is (2, 2) so this is a matrix."
      ]
    },
    {
      "cell_type": "code",
      "metadata": {
        "id": "0R0OYUEgVscn",
        "colab_type": "code",
        "colab": {
          "base_uri": "https://localhost:8080/",
          "height": 50
        },
        "outputId": "f351ff01-8dd7-4773-bc2a-45aed517fc9b"
      },
      "source": [
        "np.array([[1, 2], [3, 4]])"
      ],
      "execution_count": 3,
      "outputs": [
        {
          "output_type": "execute_result",
          "data": {
            "text/plain": [
              "array([[1, 2],\n",
              "       [3, 4]])"
            ]
          },
          "metadata": {
            "tags": []
          },
          "execution_count": 3
        }
      ]
    },
    {
      "cell_type": "markdown",
      "metadata": {
        "id": "XlI6D-_IVscq",
        "colab_type": "text"
      },
      "source": [
        "#### Make an array using a function\n",
        "\n",
        "The arrays made in previous sections were based on us supplying each value.\n",
        "\n",
        "Very often we need large arrays and it is not possible to use our current approach and thus we need to use array creating functions. The most important functions are `zeros` and `ones`. They both take a parameter called shape which determines the shape of the output array.\n",
        "* `zeros` makes an array which is all 0 [docs](https://docs.scipy.org/doc/numpy/reference/generated/numpy.zeros.html)\n",
        "* `ones`  makes an array which is all 1 [docs](https://docs.scipy.org/doc/numpy/reference/generated/numpy.ones.html#numpy.ones)"
      ]
    },
    {
      "cell_type": "code",
      "metadata": {
        "id": "VbIimhBLVscr",
        "colab_type": "code",
        "colab": {
          "base_uri": "https://localhost:8080/",
          "height": 50
        },
        "outputId": "b3f29f95-8637-40ea-aa22-6fd0aa58a199"
      },
      "source": [
        "np.zeros((2, 3))"
      ],
      "execution_count": 4,
      "outputs": [
        {
          "output_type": "execute_result",
          "data": {
            "text/plain": [
              "array([[0., 0., 0.],\n",
              "       [0., 0., 0.]])"
            ]
          },
          "metadata": {
            "tags": []
          },
          "execution_count": 4
        }
      ]
    },
    {
      "cell_type": "code",
      "metadata": {
        "id": "2ehKzKEsVsct",
        "colab_type": "code",
        "colab": {
          "base_uri": "https://localhost:8080/",
          "height": 66
        },
        "outputId": "88bbe7a6-e91f-47e3-bc80-e65aafc516ca"
      },
      "source": [
        "np.ones((3, 2))"
      ],
      "execution_count": 5,
      "outputs": [
        {
          "output_type": "execute_result",
          "data": {
            "text/plain": [
              "array([[1., 1.],\n",
              "       [1., 1.],\n",
              "       [1., 1.]])"
            ]
          },
          "metadata": {
            "tags": []
          },
          "execution_count": 5
        }
      ]
    },
    {
      "cell_type": "markdown",
      "metadata": {
        "id": "SYWOfj3GVscx",
        "colab_type": "text"
      },
      "source": [
        "#### Make an array by starting at 0, incrementing by 2 and ending before 10\n",
        "\n",
        "`arange` is the exact same thing as regular python `range` except giving back a numpy array.\n",
        "\n",
        "This functions requires only a single argument which is the end point. The start point is assumed to be 0 and step is assumed to be 1.\n",
        "\n",
        "In this variety when in takes three parameters, the first one is the start, second one is the end and the third one is the step.\n",
        "\n",
        "[docs](https://docs.scipy.org/doc/numpy/reference/generated/numpy.arange.html)"
      ]
    },
    {
      "cell_type": "code",
      "metadata": {
        "id": "YmUE2XZIVscx",
        "colab_type": "code",
        "colab": {
          "base_uri": "https://localhost:8080/",
          "height": 33
        },
        "outputId": "7abb61b1-b30a-4b18-bc16-c2f41073bbf4"
      },
      "source": [
        "np.arange(0, 10, 2)"
      ],
      "execution_count": 6,
      "outputs": [
        {
          "output_type": "execute_result",
          "data": {
            "text/plain": [
              "array([0, 2, 4, 6, 8])"
            ]
          },
          "metadata": {
            "tags": []
          },
          "execution_count": 6
        }
      ]
    },
    {
      "cell_type": "markdown",
      "metadata": {
        "id": "WgfvR8_eVsc0",
        "colab_type": "text"
      },
      "source": [
        "#### Make an array of four evenly spaced numbers including both endpoints"
      ]
    },
    {
      "cell_type": "code",
      "metadata": {
        "id": "CmQ2LtbjVsc2",
        "colab_type": "code",
        "colab": {
          "base_uri": "https://localhost:8080/",
          "height": 33
        },
        "outputId": "5066b5dc-c731-4f0f-f30f-10ef7c8c38fc"
      },
      "source": [
        "np.linspace(0, 1, 4)"
      ],
      "execution_count": 7,
      "outputs": [
        {
          "output_type": "execute_result",
          "data": {
            "text/plain": [
              "array([0.        , 0.33333333, 0.66666667, 1.        ])"
            ]
          },
          "metadata": {
            "tags": []
          },
          "execution_count": 7
        }
      ]
    },
    {
      "cell_type": "markdown",
      "metadata": {
        "id": "pSwe4s-6Vsc6",
        "colab_type": "text"
      },
      "source": [
        "#### Make an array of random numbers (using a normal distribution)\n",
        "\n",
        "The random submodule of numpy contains a variety of functions for generating random numbers following a specified probability distributions or sampling from a finite set of choices. To learn more about it visit the [documentation](https://docs.scipy.org/doc/numpy/reference/routines.random.html). "
      ]
    },
    {
      "cell_type": "code",
      "metadata": {
        "id": "rIVnHqRNVsc6",
        "colab_type": "code",
        "colab": {}
      },
      "source": [
        "mean = 10\n",
        "stdev = 3\n",
        "number_values = 20\n",
        "np.random.normal(mean, stdev, number_values)"
      ],
      "execution_count": 0,
      "outputs": []
    },
    {
      "cell_type": "markdown",
      "metadata": {
        "id": "gPZuEtnjVsc9",
        "colab_type": "text"
      },
      "source": [
        "## Indexing Arrays\n",
        "#### Access elements of a 1-dimensional array.  Get the first and last element.\n",
        "\n",
        "In python as is in many other programming languages all arrays start from 0 so the first element is at position 0.\n",
        "\n",
        "To access the last element we can use -1 as the index. `x[-1]` is identical to `x[x.shape[0] - 1]` where `shape[0]` is the length of the array."
      ]
    },
    {
      "cell_type": "code",
      "metadata": {
        "id": "TTfE_CDUVsc-",
        "colab_type": "code",
        "colab": {
          "base_uri": "https://localhost:8080/",
          "height": 50
        },
        "outputId": "288e50af-00a6-4d40-94e1-91c12c99b05b"
      },
      "source": [
        "x = np.arange(4)\n",
        "\n",
        "print(x[0])\n",
        "print(x[-1])"
      ],
      "execution_count": 8,
      "outputs": [
        {
          "output_type": "stream",
          "text": [
            "0\n",
            "3\n"
          ],
          "name": "stdout"
        }
      ]
    },
    {
      "cell_type": "markdown",
      "metadata": {
        "id": "TzlouFp2VsdD",
        "colab_type": "text"
      },
      "source": [
        "#### Reshape an array\n",
        "\n",
        "Remember that shape is the fundamenal property of each array and we can modify it as we desire and we often do so. To change the shape of an array we use the `reshape` method.\n",
        "\n",
        "The code in this example creates an 1D-array of 6 elements using the `arange` functon.\n",
        "\n",
        "We convert it to a 2D-array using the `reshape` method.\n",
        "\n",
        "You see that the total amount of numbers did not change, only our view of them. 6 elements in a vector or 3 x 2 elements in a matrix.\n",
        "\n",
        "It is very important that when using `reshape` to ensure that dimensions match or you will get an error. 6 = 3 x 2 is a match so this works but trying np.arange(6).reshape(4, 2) will give you an error. \n",
        "\n",
        "[docs](https://docs.scipy.org/doc/numpy/reference/generated/numpy.reshape.html)"
      ]
    },
    {
      "cell_type": "code",
      "metadata": {
        "id": "L-99GhjBVsdE",
        "colab_type": "code",
        "colab": {
          "base_uri": "https://localhost:8080/",
          "height": 50
        },
        "outputId": "b9a17c03-1f84-4915-947c-fb47738a586c"
      },
      "source": [
        "x = np.arange(6).reshape(2, 3)\n",
        "print(x)"
      ],
      "execution_count": 9,
      "outputs": [
        {
          "output_type": "stream",
          "text": [
            "[[0 1 2]\n",
            " [3 4 5]]\n"
          ],
          "name": "stdout"
        }
      ]
    },
    {
      "cell_type": "markdown",
      "metadata": {
        "id": "PJwakKH2VsdG",
        "colab_type": "text"
      },
      "source": [
        "#### Get the last row\n",
        "\n",
        "When dealing with arrays which are of more than a single dimension we can use partial indexing specifications go slice the array the way we want. \n",
        "\n",
        "For example `print(x[-1])` will print the last **row**.\n",
        "\n",
        "To get the last column take the transpose of the 2d-array and then use [-1]. \n",
        "\n",
        "For exampe `print(x.T[-1])` will give you the last columns. `x.T` is the transpose of `x`"
      ]
    },
    {
      "cell_type": "code",
      "metadata": {
        "id": "eRzSoVEBVsdH",
        "colab_type": "code",
        "colab": {
          "base_uri": "https://localhost:8080/",
          "height": 33
        },
        "outputId": "cbec62ce-e783-4201-abb9-554843428e33"
      },
      "source": [
        "print(x[-1, :])"
      ],
      "execution_count": 11,
      "outputs": [
        {
          "output_type": "stream",
          "text": [
            "[3 4 5]\n"
          ],
          "name": "stdout"
        }
      ]
    },
    {
      "cell_type": "markdown",
      "metadata": {
        "id": "lLqO8U4ZVsdL",
        "colab_type": "text"
      },
      "source": [
        "#### Get the last element of the last row\n",
        "\n",
        "Here we are using full indexing to get a single **element**."
      ]
    },
    {
      "cell_type": "code",
      "metadata": {
        "id": "ktEhAKY0VsdL",
        "colab_type": "code",
        "colab": {
          "base_uri": "https://localhost:8080/",
          "height": 33
        },
        "outputId": "526340bd-2a52-4122-d971-2e7ec8eeffc3"
      },
      "source": [
        "print(x[-1, -1])"
      ],
      "execution_count": 12,
      "outputs": [
        {
          "output_type": "stream",
          "text": [
            "5\n"
          ],
          "name": "stdout"
        }
      ]
    },
    {
      "cell_type": "markdown",
      "metadata": {
        "id": "S_vuadjsVsdO",
        "colab_type": "text"
      },
      "source": [
        "#### Get elements like a list\n",
        "\n",
        "Using the notation `a:b` we can slice arrays as precisely as we want.\n",
        "\n",
        "`a:b` means give me back all elements whose positions is in that set.\n",
        "\n",
        "For example `y = [1, 3, 5, 7, 9]` and `y[0:2]` would give us the first two elements `[1, 3]`.\n",
        "\n",
        "Negative indices mean from back so -3 means 3 positions starting from the last position.\n",
        "\n",
        "Experiment with the values until you get the feel for it."
      ]
    },
    {
      "cell_type": "code",
      "metadata": {
        "id": "Q6coPcKdVsdO",
        "colab_type": "code",
        "colab": {
          "base_uri": "https://localhost:8080/",
          "height": 83
        },
        "outputId": "7848be21-6316-4edd-8d75-9dcb6fb96aea"
      },
      "source": [
        "x = np.arange(10) \n",
        "\n",
        "print(x)\n",
        "print(x[:3])\n",
        "print(x[1:4])\n",
        "print(x[-3:])"
      ],
      "execution_count": 13,
      "outputs": [
        {
          "output_type": "stream",
          "text": [
            "[0 1 2 3 4 5 6 7 8 9]\n",
            "[0 1 2]\n",
            "[1 2 3]\n",
            "[7 8 9]\n"
          ],
          "name": "stdout"
        }
      ]
    },
    {
      "cell_type": "markdown",
      "metadata": {
        "id": "u0LUGU7QVsdR",
        "colab_type": "text"
      },
      "source": [
        "#### Get all elements in reverse order\n",
        "\n",
        "The enhanced slicing syntax is `a:b:c` were `c` is the step. For example `0:10:2`.\n",
        "\n",
        "If we omit `a` and `b` we always asume they are `a` = 0 and `b` = length of the list so we are only left with a step.\n",
        "\n",
        "Thus `::2` means slicing from 0 to end with a step 2. `::3` mean slicing with a step 3.\n",
        "\n",
        "Now what if we used negative steps. Using -1 as the step would reverse the logic and `a` becomes the end of the list and `b` becomes zero. So `::-1` will slice in reverse direction.\n",
        "\n",
        "Finally there is also the slice form `::1` or written short `:` which means give me back all elements in order as they are present."
      ]
    },
    {
      "cell_type": "code",
      "metadata": {
        "id": "4UzObVzGVsdS",
        "colab_type": "code",
        "colab": {
          "base_uri": "https://localhost:8080/",
          "height": 33
        },
        "outputId": "8b94a74f-56de-4f25-dc1f-2aa25aba5c7b"
      },
      "source": [
        "print(x[::-1])"
      ],
      "execution_count": 14,
      "outputs": [
        {
          "output_type": "stream",
          "text": [
            "[9 8 7 6 5 4 3 2 1 0]\n"
          ],
          "name": "stdout"
        }
      ]
    },
    {
      "cell_type": "markdown",
      "metadata": {
        "id": "RYDI0tKZVsdV",
        "colab_type": "text"
      },
      "source": [
        "#### Get every second element or third element"
      ]
    },
    {
      "cell_type": "code",
      "metadata": {
        "id": "Qt1WeSeUVsdW",
        "colab_type": "code",
        "colab": {
          "base_uri": "https://localhost:8080/",
          "height": 50
        },
        "outputId": "48788179-81e5-4599-9685-29b45fe85be7"
      },
      "source": [
        "print(x[::2])\n",
        "print(x[::3])"
      ],
      "execution_count": 15,
      "outputs": [
        {
          "output_type": "stream",
          "text": [
            "[0 2 4 6 8]\n",
            "[0 3 6 9]\n"
          ],
          "name": "stdout"
        }
      ]
    },
    {
      "cell_type": "markdown",
      "metadata": {
        "id": "gTtzstSeVsdZ",
        "colab_type": "text"
      },
      "source": [
        "#### Create a 5x5 matrix"
      ]
    },
    {
      "cell_type": "code",
      "metadata": {
        "id": "QGlTQXhwVsda",
        "colab_type": "code",
        "colab": {
          "base_uri": "https://localhost:8080/",
          "height": 100
        },
        "outputId": "a68c1568-a0dc-4be7-ac80-c0db00c23b73"
      },
      "source": [
        "x = np.arange(25).reshape(5, 5)\n",
        "print(x)"
      ],
      "execution_count": 16,
      "outputs": [
        {
          "output_type": "stream",
          "text": [
            "[[ 0  1  2  3  4]\n",
            " [ 5  6  7  8  9]\n",
            " [10 11 12 13 14]\n",
            " [15 16 17 18 19]\n",
            " [20 21 22 23 24]]\n"
          ],
          "name": "stdout"
        }
      ]
    },
    {
      "cell_type": "markdown",
      "metadata": {
        "id": "13f9XrWfVsdc",
        "colab_type": "text"
      },
      "source": [
        "#### Get the first two columns and the first two rows\n",
        "\n",
        "Until now you have learned how to slice on a 1D array but slices can be generalized to any dimensional arrays.\n",
        "\n",
        "The trick is to create a slice for every dimensions. \n",
        "\n",
        "In this example we have a 2d-array so we create two slices, one for dimension 0 (rows) and one for dimension 1 (columns)\n"
      ]
    },
    {
      "cell_type": "code",
      "metadata": {
        "id": "sU273gC3Vsdd",
        "colab_type": "code",
        "colab": {}
      },
      "source": [
        "print(x[:2, :2])"
      ],
      "execution_count": 0,
      "outputs": []
    },
    {
      "cell_type": "markdown",
      "metadata": {
        "id": "k4o5CSY-Vsdg",
        "colab_type": "text"
      },
      "source": [
        "#### Get every second column of every second row"
      ]
    },
    {
      "cell_type": "code",
      "metadata": {
        "id": "v1RkC6_XVsdg",
        "colab_type": "code",
        "colab": {}
      },
      "source": [
        "print(x[::2, ::2])"
      ],
      "execution_count": 0,
      "outputs": []
    },
    {
      "cell_type": "markdown",
      "metadata": {
        "id": "VUN97--UVsdj",
        "colab_type": "text"
      },
      "source": [
        "## Access parts of an array with index arrays"
      ]
    },
    {
      "cell_type": "markdown",
      "metadata": {
        "id": "LpR2l52dVsdj",
        "colab_type": "text"
      },
      "source": [
        "#### Generate six random integers between 0 and 9 inclusive\n",
        "\n",
        "`randint` in `np.random` is a very useful function which generates uniformly distributed random integers from the range provided as its first two parameters (start and end of range respectively). It's third parameter tells the method how many numbers we need."
      ]
    },
    {
      "cell_type": "code",
      "metadata": {
        "id": "1nY57f_oVsdk",
        "colab_type": "code",
        "colab": {
          "base_uri": "https://localhost:8080/",
          "height": 33
        },
        "outputId": "9b7c74d9-b4b9-4228-f2bf-729aaf2ba62e"
      },
      "source": [
        "x = np.random.randint(0, 10, 6) \n",
        "print(x)"
      ],
      "execution_count": 17,
      "outputs": [
        {
          "output_type": "stream",
          "text": [
            "[8 4 8 4 2 2]\n"
          ],
          "name": "stdout"
        }
      ]
    },
    {
      "cell_type": "markdown",
      "metadata": {
        "id": "bkjGnJKEVsdo",
        "colab_type": "text"
      },
      "source": [
        "#### Get the first number and the last two numbers\n",
        "\n",
        "Slices are inhetently linear and give us access to arrays in a linear fashion.\n",
        "\n",
        "To access elements in any order we must use index arrays which are numpy arrays holding integer numbers which tell what elements to chose from the indexed array."
      ]
    },
    {
      "cell_type": "code",
      "metadata": {
        "id": "GWxn2lx2Vsdp",
        "colab_type": "code",
        "colab": {
          "base_uri": "https://localhost:8080/",
          "height": 33
        },
        "outputId": "5147ccd3-9f6c-4390-ad4e-6b21981505c2"
      },
      "source": [
        "indices = [0, -2, -1]\n",
        "print(x[indices])"
      ],
      "execution_count": 18,
      "outputs": [
        {
          "output_type": "stream",
          "text": [
            "[8 2 2]\n"
          ],
          "name": "stdout"
        }
      ]
    },
    {
      "cell_type": "markdown",
      "metadata": {
        "id": "5RfG_quvVsdr",
        "colab_type": "text"
      },
      "source": [
        "#### Create two arrays\n",
        "\n",
        "The array `x2` is created as `x1 * -1`. The multiplication operator here means multiply all elements of `x1` with -1 and give back that as result."
      ]
    },
    {
      "cell_type": "code",
      "metadata": {
        "id": "V46GuSJOVsdr",
        "colab_type": "code",
        "colab": {
          "base_uri": "https://localhost:8080/",
          "height": 50
        },
        "outputId": "1e77cb70-9a9f-42b2-b282-24de71c8df9b"
      },
      "source": [
        "arrayLength = 5\n",
        "x1 = np.arange(arrayLength)\n",
        "x2 = np.arange(arrayLength) * -1\n",
        "\n",
        "print(x1)\n",
        "print(x2)"
      ],
      "execution_count": 19,
      "outputs": [
        {
          "output_type": "stream",
          "text": [
            "[0 1 2 3 4]\n",
            "[ 0 -1 -2 -3 -4]\n"
          ],
          "name": "stdout"
        }
      ]
    },
    {
      "cell_type": "markdown",
      "metadata": {
        "id": "Qm54IQiiVsdu",
        "colab_type": "text"
      },
      "source": [
        "#### Create a random shuffled range of numbers\n",
        "\n",
        "This and the following example shows how to shuffle an array in numpy.\n",
        "\n",
        "Shuffling means reoreding the items in an array and we can do that using random permutations of the array positions."
      ]
    },
    {
      "cell_type": "code",
      "metadata": {
        "id": "-XfqUqd8Vsdv",
        "colab_type": "code",
        "colab": {
          "base_uri": "https://localhost:8080/",
          "height": 33
        },
        "outputId": "8f9ab5c7-f945-442d-c599-b214b938b4cc"
      },
      "source": [
        "indices = np.random.permutation(arrayLength)\n",
        "print(indices)"
      ],
      "execution_count": 25,
      "outputs": [
        {
          "output_type": "stream",
          "text": [
            "[3 0 2 4 1]\n"
          ],
          "name": "stdout"
        }
      ]
    },
    {
      "cell_type": "markdown",
      "metadata": {
        "id": "At69gWFaVsdz",
        "colab_type": "text"
      },
      "source": [
        "#### Use indices to re-order arrays"
      ]
    },
    {
      "cell_type": "code",
      "metadata": {
        "id": "bqfTE7IEVsd0",
        "colab_type": "code",
        "colab": {
          "base_uri": "https://localhost:8080/",
          "height": 50
        },
        "outputId": "4576b38e-122d-4e51-9f06-5781daa6de8c"
      },
      "source": [
        "print(x1[indices])\n",
        "print(x2[indices])"
      ],
      "execution_count": 28,
      "outputs": [
        {
          "output_type": "stream",
          "text": [
            "[3 0 2 4 1]\n",
            "[-3  0 -2 -4 -1]\n"
          ],
          "name": "stdout"
        }
      ]
    },
    {
      "cell_type": "markdown",
      "metadata": {
        "id": "JhA7z7NiVsd5",
        "colab_type": "text"
      },
      "source": [
        "#### Create array of boolean values\n",
        "\n",
        "The main novelty of this example is `print(x > 2)`.\n",
        "\n",
        "`x > 2` generates an array of boolean values where each element is True or False.\n",
        "Having True at position i of the output means that the conditions is satisfied for the element of `x` at position i.\n",
        "\n",
        "For exampe if `x=[0,1,2,3,4]` then `x > 2` would be `[False, False, False, True, True]`.\n",
        "\n",
        "As you see 0 > 2 = False, 1 > 2 = False, 2 > 2 = False, 3 > 2 = True and 4 > 2 = True and that is shown in the output array."
      ]
    },
    {
      "cell_type": "code",
      "metadata": {
        "id": "Wq39t_tDVsd6",
        "colab_type": "code",
        "colab": {
          "base_uri": "https://localhost:8080/",
          "height": 50
        },
        "outputId": "b85437cc-0cd7-4fa0-e637-947624b5cb4e"
      },
      "source": [
        "x = np.arange(5)\n",
        "print(x)\n",
        "print(x > 2)"
      ],
      "execution_count": 29,
      "outputs": [
        {
          "output_type": "stream",
          "text": [
            "[0 1 2 3 4]\n",
            "[False False False  True  True]\n"
          ],
          "name": "stdout"
        }
      ]
    },
    {
      "cell_type": "markdown",
      "metadata": {
        "id": "k5Zv-VArVsd8",
        "colab_type": "text"
      },
      "source": [
        "#### Use boolean values to index arrays\n",
        "\n",
        "Once we have created our boolean array we can use it to index other arrays.\n",
        "\n",
        "The rule is very simple. If at position i of index we have True include `x[i]` in the output."
      ]
    },
    {
      "cell_type": "code",
      "metadata": {
        "id": "E4ea2NQwVsd9",
        "colab_type": "code",
        "colab": {
          "base_uri": "https://localhost:8080/",
          "height": 50
        },
        "outputId": "e01998e5-0131-4300-cace-04bdbf97b7d3"
      },
      "source": [
        "print(x[x > 2])\n",
        "print(x[np.array([False,False,False,True,True])])"
      ],
      "execution_count": 31,
      "outputs": [
        {
          "output_type": "stream",
          "text": [
            "[3 4]\n",
            "[3 4]\n"
          ],
          "name": "stdout"
        }
      ]
    },
    {
      "cell_type": "markdown",
      "metadata": {
        "id": "CPA6fxsgVseB",
        "colab_type": "text"
      },
      "source": [
        "## Array Math"
      ]
    },
    {
      "cell_type": "markdown",
      "metadata": {
        "id": "BXU-_j3XYjIx",
        "colab_type": "text"
      },
      "source": [
        "#### Try adding to a list"
      ]
    },
    {
      "cell_type": "code",
      "metadata": {
        "id": "77uE0DtkVseC",
        "colab_type": "code",
        "colab": {
          "base_uri": "https://localhost:8080/",
          "height": 195
        },
        "outputId": "5caa7e76-5591-4013-915d-0e0bf78214ac"
      },
      "source": [
        "x = [1, 2, 3, 4]\n",
        "\n",
        "print(x + 10)"
      ],
      "execution_count": 32,
      "outputs": [
        {
          "output_type": "error",
          "ename": "TypeError",
          "evalue": "ignored",
          "traceback": [
            "\u001b[0;31m---------------------------------------------------------------------------\u001b[0m",
            "\u001b[0;31mTypeError\u001b[0m                                 Traceback (most recent call last)",
            "\u001b[0;32m<ipython-input-32-ba2fe335b5c7>\u001b[0m in \u001b[0;36m<module>\u001b[0;34m()\u001b[0m\n\u001b[1;32m      1\u001b[0m \u001b[0mx\u001b[0m \u001b[0;34m=\u001b[0m \u001b[0;34m[\u001b[0m\u001b[0;36m1\u001b[0m\u001b[0;34m,\u001b[0m \u001b[0;36m2\u001b[0m\u001b[0;34m,\u001b[0m \u001b[0;36m3\u001b[0m\u001b[0;34m,\u001b[0m \u001b[0;36m4\u001b[0m\u001b[0;34m]\u001b[0m\u001b[0;34m\u001b[0m\u001b[0;34m\u001b[0m\u001b[0m\n\u001b[1;32m      2\u001b[0m \u001b[0;34m\u001b[0m\u001b[0m\n\u001b[0;32m----> 3\u001b[0;31m \u001b[0mprint\u001b[0m\u001b[0;34m(\u001b[0m\u001b[0mx\u001b[0m \u001b[0;34m+\u001b[0m \u001b[0;36m10\u001b[0m\u001b[0;34m)\u001b[0m\u001b[0;34m\u001b[0m\u001b[0;34m\u001b[0m\u001b[0m\n\u001b[0m",
            "\u001b[0;31mTypeError\u001b[0m: can only concatenate list (not \"int\") to list"
          ]
        }
      ]
    },
    {
      "cell_type": "markdown",
      "metadata": {
        "id": "TmH2s9-aVseE",
        "colab_type": "text"
      },
      "source": [
        "#### Try again with an array\n",
        "\n",
        "When trying with a list you got an error because simple python lists do not support addition with scalars.\n",
        "\n",
        "But numpy arrays do allow that."
      ]
    },
    {
      "cell_type": "code",
      "metadata": {
        "id": "oOmv1DBxVseE",
        "colab_type": "code",
        "colab": {
          "base_uri": "https://localhost:8080/",
          "height": 50
        },
        "outputId": "795534cc-0983-48ba-cf12-ae99193fec31"
      },
      "source": [
        "x = np.array(x)\n",
        "\n",
        "print(x)\n",
        "print(x + 10)"
      ],
      "execution_count": 33,
      "outputs": [
        {
          "output_type": "stream",
          "text": [
            "[1 2 3 4]\n",
            "[11 12 13 14]\n"
          ],
          "name": "stdout"
        }
      ]
    },
    {
      "cell_type": "markdown",
      "metadata": {
        "id": "XvwnrdEsVseH",
        "colab_type": "text"
      },
      "source": [
        "## Exercises"
      ]
    },
    {
      "cell_type": "markdown",
      "metadata": {
        "id": "Xf0nHJl3VseH",
        "colab_type": "text"
      },
      "source": [
        "#### Create an array from 0 to 26 assign it to a variable x"
      ]
    },
    {
      "cell_type": "code",
      "metadata": {
        "id": "CFzHAXotVseI",
        "colab_type": "code",
        "colab": {
          "base_uri": "https://localhost:8080/",
          "height": 50
        },
        "outputId": "023668fd-b916-4fe8-bfff-5ec7805a0601"
      },
      "source": [
        "x = np.arange(0,26)\n",
        "print(x)"
      ],
      "execution_count": 34,
      "outputs": [
        {
          "output_type": "stream",
          "text": [
            "[ 0  1  2  3  4  5  6  7  8  9 10 11 12 13 14 15 16 17 18 19 20 21 22 23\n",
            " 24 25]\n"
          ],
          "name": "stdout"
        }
      ]
    },
    {
      "cell_type": "markdown",
      "metadata": {
        "id": "gSpgRMsjVseK",
        "colab_type": "text"
      },
      "source": [
        "#### Reverse the order of the array and print it out"
      ]
    },
    {
      "cell_type": "code",
      "metadata": {
        "id": "Xg3yZ1yYVseL",
        "colab_type": "code",
        "colab": {
          "base_uri": "https://localhost:8080/",
          "height": 50
        },
        "outputId": "f583a8b7-207e-43f9-cc9e-fc19015d41d0"
      },
      "source": [
        "x[::-1]"
      ],
      "execution_count": 36,
      "outputs": [
        {
          "output_type": "execute_result",
          "data": {
            "text/plain": [
              "array([25, 24, 23, 22, 21, 20, 19, 18, 17, 16, 15, 14, 13, 12, 11, 10,  9,\n",
              "        8,  7,  6,  5,  4,  3,  2,  1,  0])"
            ]
          },
          "metadata": {
            "tags": []
          },
          "execution_count": 36
        }
      ]
    },
    {
      "cell_type": "markdown",
      "metadata": {
        "id": "9C0WP05VVseR",
        "colab_type": "text"
      },
      "source": [
        "#### Convert the 1-dimensional array you created into a 3 dimensional array"
      ]
    },
    {
      "cell_type": "code",
      "metadata": {
        "id": "S1EwyyqfVseS",
        "colab_type": "code",
        "colab": {
          "base_uri": "https://localhost:8080/",
          "height": 283
        },
        "outputId": "081faeea-fbdd-4c8f-ca31-460403b6c67b"
      },
      "source": [
        "x = np.arange(24)\n",
        "print(\"1D: \", x)\n",
        "\n",
        "a = x.reshape(4,3,2)\n",
        "print(a)"
      ],
      "execution_count": 44,
      "outputs": [
        {
          "output_type": "stream",
          "text": [
            "1D:  [ 0  1  2  3  4  5  6  7  8  9 10 11 12 13 14 15 16 17 18 19 20 21 22 23]\n",
            "[[[ 0  1]\n",
            "  [ 2  3]\n",
            "  [ 4  5]]\n",
            "\n",
            " [[ 6  7]\n",
            "  [ 8  9]\n",
            "  [10 11]]\n",
            "\n",
            " [[12 13]\n",
            "  [14 15]\n",
            "  [16 17]]\n",
            "\n",
            " [[18 19]\n",
            "  [20 21]\n",
            "  [22 23]]]\n"
          ],
          "name": "stdout"
        }
      ]
    },
    {
      "cell_type": "markdown",
      "metadata": {
        "id": "30CSoki5VseU",
        "colab_type": "text"
      },
      "source": [
        "#### Find the index (location) for value 12"
      ]
    },
    {
      "cell_type": "code",
      "metadata": {
        "id": "3en3QEIXVseV",
        "colab_type": "code",
        "colab": {
          "base_uri": "https://localhost:8080/",
          "height": 33
        },
        "outputId": "0b973be6-22c7-4e64-b8c3-6e5b89a65069"
      },
      "source": [
        "a[2,0][0]"
      ],
      "execution_count": 47,
      "outputs": [
        {
          "output_type": "execute_result",
          "data": {
            "text/plain": [
              "12"
            ]
          },
          "metadata": {
            "tags": []
          },
          "execution_count": 47
        }
      ]
    },
    {
      "cell_type": "markdown",
      "metadata": {
        "id": "aIawXcgSVseb",
        "colab_type": "text"
      },
      "source": [
        "#### Create a random shuffled list of values from 0-19 and assign it to variable y"
      ]
    },
    {
      "cell_type": "code",
      "metadata": {
        "id": "G9hLCgCeVseb",
        "colab_type": "code",
        "colab": {
          "base_uri": "https://localhost:8080/",
          "height": 33
        },
        "outputId": "0fe02402-f73f-4cd0-f3db-c0080f3b3b62"
      },
      "source": [
        "y = np.random.randint(0,19,7)\n",
        "print(y)"
      ],
      "execution_count": 55,
      "outputs": [
        {
          "output_type": "stream",
          "text": [
            "[ 9  1 18  2  7 10  9]\n"
          ],
          "name": "stdout"
        }
      ]
    },
    {
      "cell_type": "markdown",
      "metadata": {
        "id": "aRe_-tIOVsee",
        "colab_type": "text"
      },
      "source": [
        "#### Create an array of boolean values for values in y that are greater than 10"
      ]
    },
    {
      "cell_type": "code",
      "metadata": {
        "id": "wZ3zDBh-Vsee",
        "colab_type": "code",
        "colab": {
          "base_uri": "https://localhost:8080/",
          "height": 33
        },
        "outputId": "af7b8fd6-726e-410b-adef-99dff7cf3c2b"
      },
      "source": [
        "print(y>10)\n",
        "\n",
        "\n",
        "mean = 10\n",
        "stdev = 3\n",
        "number_values = 20\n",
        "np.random.normal(mean, stdev, number_values)"
      ],
      "execution_count": 57,
      "outputs": [
        {
          "output_type": "stream",
          "text": [
            "[False False  True False False False False]\n"
          ],
          "name": "stdout"
        }
      ]
    },
    {
      "cell_type": "markdown",
      "metadata": {
        "id": "r8XL5KlKVseg",
        "colab_type": "text"
      },
      "source": [
        "#### Create a random sample of 20 data points from a normal distribution with mean of 10 and standard deviation 5"
      ]
    },
    {
      "cell_type": "code",
      "metadata": {
        "id": "zwFXB9qbVseh",
        "colab_type": "code",
        "colab": {
          "base_uri": "https://localhost:8080/",
          "height": 83
        },
        "outputId": "ae2a7cda-5721-48dc-e47f-012767c16ac6"
      },
      "source": [
        "mean = 10\n",
        "std = 5 \n",
        "number_values = 20\n",
        "np.random.normal(mean,std, number_values)"
      ],
      "execution_count": 58,
      "outputs": [
        {
          "output_type": "execute_result",
          "data": {
            "text/plain": [
              "array([ 9.27008531, 14.70509183,  3.50397716, 11.6170424 ,  9.43313079,\n",
              "       12.89867653, 14.7676679 ,  9.98835423,  8.78753384,  9.33168747,\n",
              "        3.38924298, 14.1046417 ,  2.29781218, 15.4015152 ,  9.83938634,\n",
              "        9.66658002, 17.53187876, 13.70669406, 14.00877505,  7.32610048])"
            ]
          },
          "metadata": {
            "tags": []
          },
          "execution_count": 58
        }
      ]
    }
  ]
}